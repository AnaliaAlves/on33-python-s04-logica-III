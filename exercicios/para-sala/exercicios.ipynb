{
 "cells": [
  {
   "cell_type": "code",
   "execution_count": 1,
   "metadata": {},
   "outputs": [
    {
     "name": "stdout",
     "output_type": "stream",
     "text": [
      "Eu tenho 0 balas\n",
      "Eu tenho 1 balas\n",
      "Eu tenho 2 balas\n",
      "Eu tenho 3 balas\n",
      "Eu tenho 4 balas\n"
     ]
    }
   ],
   "source": [
    "balas = 0\n",
    "\n",
    "while balas < 5:\n",
    "    print(\"Eu tenho\", balas, \"balas\")\n",
    "    balas = balas + 1"
   ]
  },
  {
   "cell_type": "code",
   "execution_count": 2,
   "metadata": {},
   "outputs": [
    {
     "name": "stdout",
     "output_type": "stream",
     "text": [
      "Ainda não está cheio, tenho 0 litros de água no balde\n",
      "Ainda não está cheio, tenho 1 litros de água no balde\n",
      "Ainda não está cheio, tenho 2 litros de água no balde\n",
      "Ainda não está cheio, tenho 3 litros de água no balde\n",
      "Ainda não está cheio, tenho 4 litros de água no balde\n",
      "O balde está cheio!\n"
     ]
    }
   ],
   "source": [
    "agua_no_balde = 0\n",
    "balde_cheio = 5\n",
    "\n",
    "while agua_no_balde < balde_cheio:\n",
    "    print(\"Ainda não está cheio, tenho\", agua_no_balde, \"litros de água no balde\")\n",
    "    agua_no_balde += 1\n",
    "    \n",
    "print(\"O balde está cheio!\")"
   ]
  },
  {
   "cell_type": "markdown",
   "metadata": {},
   "source": [
    "exercicio 1: Contagem Regressiva Simples\n",
    "Este exercicio pede para criar um contador regressivo de 5 ate 1"
   ]
  },
  {
   "cell_type": "code",
   "execution_count": 3,
   "metadata": {},
   "outputs": [
    {
     "name": "stdout",
     "output_type": "stream",
     "text": [
      "5\n",
      "4\n",
      "3\n",
      "2\n",
      "1\n",
      "kbou\n"
     ]
    }
   ],
   "source": [
    "contador = 5\n",
    "\n",
    "while contador > 0:\n",
    "    print(contador)\n",
    "    contador -= 1\n",
    "\n",
    "print(\"kbou\")"
   ]
  },
  {
   "cell_type": "markdown",
   "metadata": {},
   "source": [
    "Exercício 2: Tabuada de Multiplicação\n",
    "Neste exercício, o programa calcula e exibe a tabuada de multiplicação de um número escolhido pelo usuário."
   ]
  },
  {
   "cell_type": "code",
   "execution_count": 11,
   "metadata": {},
   "outputs": [
    {
     "name": "stdout",
     "output_type": "stream",
     "text": [
      "Tabuada de 9:\n",
      "9 x 1 = 9\n",
      "9 x 2 = 18\n",
      "9 x 3 = 27\n",
      "9 x 4 = 36\n",
      "9 x 5 = 45\n",
      "9 x 6 = 54\n",
      "9 x 7 = 63\n",
      "9 x 8 = 72\n",
      "9 x 9 = 81\n",
      "9 x 10 = 90\n",
      "feito\n"
     ]
    }
   ],
   "source": [
    "numero = int(input(\"Digite um número para ver sua tabuada: \"))\n",
    "\n",
    "multiplicador = 1\n",
    "\n",
    "print(f\"Tabuada de {numero}:\")\n",
    "\n",
    "while multiplicador <= 10:\n",
    "    print(f\"{numero} x {multiplicador} = {numero * multiplicador}\")\n",
    "    multiplicador += 1\n",
    "\n",
    "print(\"feito\")"
   ]
  },
  {
   "cell_type": "markdown",
   "metadata": {},
   "source": [
    "uso do range"
   ]
  },
  {
   "cell_type": "code",
   "execution_count": null,
   "metadata": {},
   "outputs": [],
   "source": [
    "for i in range(4,6):\n",
    "    print(i)"
   ]
  },
  {
   "cell_type": "code",
   "execution_count": 21,
   "metadata": {},
   "outputs": [
    {
     "name": "stdout",
     "output_type": "stream",
     "text": [
      "Nome 1: Ana\n",
      "Nome 2: carlos\n",
      "Nome 3: Maria\n",
      "Nome 4: Pedro\n"
     ]
    }
   ],
   "source": [
    "nomes = [\"Ana\", \"carlos\", \"Maria\", \"Pedro\"]\n",
    "\n",
    "for indice in range(len(nomes)):\n",
    "    print(f\"Nome {indice +1}: {nomes [indice]}\")"
   ]
  },
  {
   "cell_type": "markdown",
   "metadata": {},
   "source": [
    "# Exercício 1: Imprimir números pares de 1 a 10"
   ]
  },
  {
   "cell_type": "code",
   "execution_count": 23,
   "metadata": {},
   "outputs": [
    {
     "name": "stdout",
     "output_type": "stream",
     "text": [
      "2\n",
      "4\n",
      "6\n",
      "8\n",
      "10\n"
     ]
    }
   ],
   "source": [
    "for num in range(1, 11):\n",
    "    if num % 2 == 0:\n",
    "        print(num)\n"
   ]
  },
  {
   "cell_type": "markdown",
   "metadata": {},
   "source": [
    "# Exercício 2: Calcular a soma dos primeiros 5 números naturais"
   ]
  },
  {
   "cell_type": "code",
   "execution_count": 25,
   "metadata": {},
   "outputs": [
    {
     "name": "stdout",
     "output_type": "stream",
     "text": [
      "A soma dos primeiros 5 números naturais é: 15\n"
     ]
    }
   ],
   "source": [
    "\n",
    "soma = 0\n",
    "for numero in range(1, 6):\n",
    "    soma += numero\n",
    "\n",
    "print(\"A soma dos primeiros 5 números naturais é:\", soma)\n"
   ]
  },
  {
   "cell_type": "markdown",
   "metadata": {},
   "source": []
  },
  {
   "cell_type": "code",
   "execution_count": 1,
   "metadata": {},
   "outputs": [
    {
     "name": "stdout",
     "output_type": "stream",
     "text": [
      "maça\n",
      "banana\n",
      "pão\n",
      "leite\n",
      "queijo\n"
     ]
    }
   ],
   "source": [
    "lista_de_compras = [\"maça\", \"banana\", \"pão\", \"leite\", \"queijo\"]\n",
    "\n",
    "for item in lista_de_compras:\n",
    "    print(item)"
   ]
  },
  {
   "cell_type": "markdown",
   "metadata": {},
   "source": [
    "## Exercicio 3: trabalhando com Tuplas\n",
    "\n",
    "objetivo: Criar uma tupla com nomes de cores e imprimir cada Cor"
   ]
  },
  {
   "cell_type": "code",
   "execution_count": 2,
   "metadata": {},
   "outputs": [
    {
     "name": "stdout",
     "output_type": "stream",
     "text": [
      "Roxo\n",
      "Azul\n",
      "Rosa\n",
      "Cinza\n",
      "Preto\n",
      "Branco\n",
      "Laranja\n",
      "Verde\n",
      "Azul\n",
      "Arco-iris\n"
     ]
    }
   ],
   "source": [
    "# Criar uma tupla com nomes de cores\n",
    "cores = (\"Roxo\", \"Azul\", \"Rosa\", \"Cinza\", \"Preto\", \"Branco\", \"Laranja\", \"Verde\", \"Azul\", \"Arco-iris\")\n",
    "\n",
    "# Imprimir cada cor\n",
    "for cor in cores:\n",
    "    print(cor)\n"
   ]
  },
  {
   "cell_type": "markdown",
   "metadata": {},
   "source": [
    "# Exercício 2: Trabalhando com Dicionários\n",
    " Definindo um dicionário com informações sobre filmes"
   ]
  },
  {
   "cell_type": "code",
   "execution_count": 9,
   "metadata": {},
   "outputs": [
    {
     "name": "stdout",
     "output_type": "stream",
     "text": [
      "Título: Cartas para julieta\n",
      "Gênero: Romance\n",
      "\n",
      "Título: Como se fosse a primeira Vez\n",
      "Gênero: Comedia\n",
      "\n",
      "Título: Burlesque\n",
      "Gênero: Musical\n",
      "\n",
      "Título: Barbie\n",
      "Gênero: comedia, Fantasia\n",
      "\n"
     ]
    }
   ],
   "source": [
    "filmes = {\n",
    "    \"Cartas para julieta\": {\"gênero\": \"Romance\"},\n",
    "    \"Como se fosse a primeira Vez\": {\"gênero\": \"Comedia\"},\n",
    "    \"Burlesque\": {\"gênero\": \"Musical\"},\n",
    "    \"Barbie\": {\"gênero\": \"comedia, Fantasia\"}\n",
    "}\n",
    "\n",
    "for titulo in filmes:\n",
    "    info = filmes[titulo]\n",
    "    print(f\"Título: {titulo}\")\n",
    "    print(f\"Gênero: {info['gênero']}\")\n",
    "    print()\n"
   ]
  }
 ],
 "metadata": {
  "kernelspec": {
   "display_name": "Python 3",
   "language": "python",
   "name": "python3"
  },
  "language_info": {
   "codemirror_mode": {
    "name": "ipython",
    "version": 3
   },
   "file_extension": ".py",
   "mimetype": "text/x-python",
   "name": "python",
   "nbconvert_exporter": "python",
   "pygments_lexer": "ipython3",
   "version": "3.12.4"
  }
 },
 "nbformat": 4,
 "nbformat_minor": 2
}
